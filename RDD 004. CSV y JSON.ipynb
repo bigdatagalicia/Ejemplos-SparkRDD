{
 "cells": [
  {
   "cell_type": "code",
   "execution_count": 1,
   "metadata": {},
   "outputs": [],
   "source": [
    "datos=sc.textFile(\"restaurantes.csv\")"
   ]
  },
  {
   "cell_type": "code",
   "execution_count": 19,
   "metadata": {},
   "outputs": [
    {
     "data": {
      "text/plain": [
       "([(\"Benny's - Collection Only\", 6.0, 'Fish & Chips'),\n",
       "  ('Baan Thai', 5.0, 'Thai'),\n",
       "  ('Bamboo Baboom', 4.0, 'Thai'),\n",
       "  ('August Moon', 4.5, 'Chinese'),\n",
       "  (\"Bhaji's Takeaway\", 5.0, 'Curry'),\n",
       "  ('Abz BBQ Kitchen', 5.0, 'American'),\n",
       "  (\"Benny's\", 5.0, 'Chinese'),\n",
       "  ('Amigo Uk Pizza & Kebab', 3.0, 'Pizza'),\n",
       "  ('Al-Faisal', 4.5, 'Middle Eastern'),\n",
       "  ('BBQ Xpress', 4.5, 'American')],\n",
       " 1692)"
      ]
     },
     "execution_count": 19,
     "metadata": {},
     "output_type": "execute_result"
    }
   ],
   "source": [
    "info=datos.distinct().map(lambda a:a.split(\",\"))\\\n",
    "                    .filter(lambda a:a[1]!=\"Not yet rated\")\\\n",
    "                    .filter(lambda a:len(a)==3)\\\n",
    "                    .map(lambda a:(a[0],float(a[1]),a[2]))\n",
    "\n",
    "info.take(10),info.count()"
   ]
  },
  {
   "cell_type": "code",
   "execution_count": 20,
   "metadata": {},
   "outputs": [
    {
     "data": {
      "text/plain": [
       "4.924645390070923"
      ]
     },
     "execution_count": 20,
     "metadata": {},
     "output_type": "execute_result"
    }
   ],
   "source": [
    "info.map(lambda a:a[1]).mean()"
   ]
  },
  {
   "cell_type": "code",
   "execution_count": 21,
   "metadata": {},
   "outputs": [
    {
     "data": {
      "text/plain": [
       "(count: 1692, mean: 4.924645390070923, stdev: 0.5725406275827821, max: 6.0, min: 1.0)"
      ]
     },
     "execution_count": 21,
     "metadata": {},
     "output_type": "execute_result"
    }
   ],
   "source": [
    "info.map(lambda a:a[1]).stats()"
   ]
  },
  {
   "cell_type": "code",
   "execution_count": 33,
   "metadata": {},
   "outputs": [
    {
     "data": {
      "text/plain": [
       "[('Curry', 622),\n",
       " ('Pizza', 335),\n",
       " ('Chinese', 121),\n",
       " ('Kebab', 104),\n",
       " ('Fish & Chips', 85)]"
      ]
     },
     "execution_count": 33,
     "metadata": {},
     "output_type": "execute_result"
    }
   ],
   "source": [
    "res=info.map(lambda a:(a[2],1))\n",
    "\n",
    "res.reduceByKey(lambda a,b:a+b).sortBy(lambda a:-a[1]).take(5)"
   ]
  },
  {
   "cell_type": "code",
   "execution_count": 36,
   "metadata": {},
   "outputs": [
    {
     "data": {
      "text/plain": [
       "(count: 622, mean: 5.02491961414791, stdev: 0.4665046637014003, max: 6.0, min: 2.5)"
      ]
     },
     "execution_count": 36,
     "metadata": {},
     "output_type": "execute_result"
    }
   ],
   "source": [
    "info.filter(lambda a:a[2]==\"Curry\").map(lambda a:a[1]).stats()"
   ]
  },
  {
   "cell_type": "code",
   "execution_count": 37,
   "metadata": {},
   "outputs": [
    {
     "data": {
      "text/plain": [
       "(count: 335, mean: 4.93134328358209, stdev: 0.5434024800189179, max: 6.0, min: 2.0)"
      ]
     },
     "execution_count": 37,
     "metadata": {},
     "output_type": "execute_result"
    }
   ],
   "source": [
    "info.filter(lambda a:a[2]==\"Pizza\").map(lambda a:a[1]).stats()"
   ]
  },
  {
   "cell_type": "code",
   "execution_count": 47,
   "metadata": {},
   "outputs": [],
   "source": [
    "import json\n",
    "ventas=sc.textFile(\"ventas.json\")"
   ]
  },
  {
   "cell_type": "code",
   "execution_count": 58,
   "metadata": {},
   "outputs": [
    {
     "data": {
      "text/plain": [
       "[('moto', 1000.0, None),\n",
       " ('coche', 2000.0, None),\n",
       " ('bici', 200.0, None),\n",
       " ('coche', 3000.0, 2015.0)]"
      ]
     },
     "execution_count": 58,
     "metadata": {},
     "output_type": "execute_result"
    }
   ],
   "source": [
    "tabla=ventas.map(lambda a:json.loads(a))\\\n",
    "            .map(lambda a:(a.get(\"Producto\"),\n",
    "                           a.get(\"Precio\"),\n",
    "                           a.get(\"Año\")))\n",
    "tabla.collect()"
   ]
  },
  {
   "cell_type": "code",
   "execution_count": 59,
   "metadata": {},
   "outputs": [],
   "source": [
    "tablaDF=tabla.toDF([\"Producto\",\"Precio\",\"Año\"])"
   ]
  },
  {
   "cell_type": "code",
   "execution_count": 60,
   "metadata": {},
   "outputs": [
    {
     "name": "stdout",
     "output_type": "stream",
     "text": [
      "+--------+------+------+\n",
      "|Producto|Precio|   Año|\n",
      "+--------+------+------+\n",
      "|    moto|1000.0|  null|\n",
      "|   coche|2000.0|  null|\n",
      "|    bici| 200.0|  null|\n",
      "|   coche|3000.0|2015.0|\n",
      "+--------+------+------+\n",
      "\n"
     ]
    }
   ],
   "source": [
    "tablaDF.show()"
   ]
  },
  {
   "cell_type": "code",
   "execution_count": 65,
   "metadata": {},
   "outputs": [
    {
     "data": {
      "text/plain": [
       "<matplotlib.axes._subplots.AxesSubplot at 0x7faca1283ef0>"
      ]
     },
     "execution_count": 65,
     "metadata": {},
     "output_type": "execute_result"
    },
    {
     "data": {
      "image/png": "[encoded data removed]",
      "text/plain": [
       "<Figure size 432x288 with 1 Axes>"
      ]
     },
     "metadata": {
      "needs_background": "light"
     },
     "output_type": "display_data"
    }
   ],
   "source": [
    "tablaDF.toPandas().plot.box()"
   ]
  },
  {
   "cell_type": "code",
   "execution_count": null,
   "metadata": {},
   "outputs": [],
   "source": []
  }
 ],
 "metadata": {
  "kernelspec": {
   "display_name": "Python 3",
   "language": "python",
   "name": "python3"
  },
  "language_info": {
   "codemirror_mode": {
    "name": "ipython",
    "version": 3
   },
   "file_extension": ".py",
   "mimetype": "text/x-python",
   "name": "python",
   "nbconvert_exporter": "python",
   "pygments_lexer": "ipython3",
   "version": "3.5.2"
  }
 },
 "nbformat": 4,
 "nbformat_minor": 2
}
