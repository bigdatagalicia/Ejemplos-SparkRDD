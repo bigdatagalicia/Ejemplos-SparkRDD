{
 "cells": [
  {
   "cell_type": "code",
   "execution_count": 1,
   "metadata": {},
   "outputs": [],
   "source": [
    "lineas=sc.textFile(\"FR Sales.csv\")"
   ]
  },
  {
   "cell_type": "code",
   "execution_count": 2,
   "metadata": {},
   "outputs": [
    {
     "data": {
      "text/plain": [
       "['ProductID,Date,Zip,Units,Revenue,Country',\n",
       " '726,1/15/1999,75056 CEDEX 01,1,115.45,France',\n",
       " '1909,1/15/1999,75056 CEDEX 01,2,398.90,France',\n",
       " '1961,2/15/1999,75056 CEDEX 01,1,97.07,France',\n",
       " '1517,2/15/1999,75056 CEDEX 01,1,141.65,France']"
      ]
     },
     "execution_count": 2,
     "metadata": {},
     "output_type": "execute_result"
    }
   ],
   "source": [
    "lineas.take(5)"
   ]
  },
  {
   "cell_type": "code",
   "execution_count": 7,
   "metadata": {},
   "outputs": [
    {
     "data": {
      "text/plain": [
       "[(726, '1/15/1999', '75056 CEDEX 01', 1, 115.45, 'France'),\n",
       " (1909, '1/15/1999', '75056 CEDEX 01', 2, 398.9, 'France'),\n",
       " (1961, '2/15/1999', '75056 CEDEX 01', 1, 97.07, 'France'),\n",
       " (1517, '2/15/1999', '75056 CEDEX 01', 1, 141.65, 'France'),\n",
       " (606, '2/15/1999', '75056 CEDEX 01', 1, 314.74, 'France')]"
      ]
     },
     "execution_count": 7,
     "metadata": {},
     "output_type": "execute_result"
    }
   ],
   "source": [
    "tabla=lineas.map(lambda a:a.split(\",\"))\\\n",
    "            .filter(lambda a:a[0]!=\"ProductID\")\\\n",
    "            .map(lambda a:(int(a[0]),\n",
    "                          a[1],\n",
    "                          a[2],\n",
    "                          int(a[3]),\n",
    "                          float(a[4]),\n",
    "                          a[5] \n",
    "                          ))\n",
    "\n",
    "\n",
    "tabla.take(5)"
   ]
  },
  {
   "cell_type": "code",
   "execution_count": 22,
   "metadata": {},
   "outputs": [
    {
     "data": {
      "text/plain": [
       "PythonRDD[18] at RDD at PythonRDD.scala:49"
      ]
     },
     "execution_count": 22,
     "metadata": {},
     "output_type": "execute_result"
    }
   ],
   "source": [
    "tabla.cache()"
   ]
  },
  {
   "cell_type": "code",
   "execution_count": 13,
   "metadata": {},
   "outputs": [
    {
     "data": {
      "text/plain": [
       "148491138.92023316"
      ]
     },
     "execution_count": 13,
     "metadata": {},
     "output_type": "execute_result"
    }
   ],
   "source": [
    "tabla.map(lambda a:a[4]).sum()"
   ]
  },
  {
   "cell_type": "code",
   "execution_count": 18,
   "metadata": {},
   "outputs": [
    {
     "data": {
      "text/plain": [
       "(count: 314750, mean: 471.7748655123057, stdev: 428.4481520419954, max: 43194.11, min: 0.0)"
      ]
     },
     "execution_count": 18,
     "metadata": {},
     "output_type": "execute_result"
    }
   ],
   "source": [
    "tabla.map(lambda a:a[4]).stats()"
   ]
  },
  {
   "cell_type": "code",
   "execution_count": 28,
   "metadata": {},
   "outputs": [
    {
     "data": {
      "text/plain": [
       "314750"
      ]
     },
     "execution_count": 28,
     "metadata": {},
     "output_type": "execute_result"
    }
   ],
   "source": [
    "tabla.count()"
   ]
  },
  {
   "cell_type": "code",
   "execution_count": 29,
   "metadata": {},
   "outputs": [
    {
     "data": {
      "text/plain": [
       "471.7748655123057"
      ]
     },
     "execution_count": 29,
     "metadata": {},
     "output_type": "execute_result"
    }
   ],
   "source": [
    "tabla.map(lambda a:a[4]).mean()"
   ]
  },
  {
   "cell_type": "code",
   "execution_count": 43,
   "metadata": {},
   "outputs": [],
   "source": [
    "res=tabla.map(lambda a:(a[0],a[3]))\\\n",
    "        .reduceByKey(lambda a,b:a+b)\\\n",
    "        .sortBy(lambda a:-a[1])"
   ]
  },
  {
   "cell_type": "code",
   "execution_count": 44,
   "metadata": {},
   "outputs": [
    {
     "data": {
      "text/plain": [
       "(1716,\n",
       " [(475, 4317),\n",
       "  (604, 3765),\n",
       "  (2332, 3166),\n",
       "  (487, 3123),\n",
       "  (2254, 3067),\n",
       "  (2255, 3067),\n",
       "  (792, 2915),\n",
       "  (791, 2915),\n",
       "  (396, 2826),\n",
       "  (2045, 2809)])"
      ]
     },
     "execution_count": 44,
     "metadata": {},
     "output_type": "execute_result"
    }
   ],
   "source": [
    "res.count(),res.take(10)"
   ]
  },
  {
   "cell_type": "code",
   "execution_count": 58,
   "metadata": {},
   "outputs": [],
   "source": [
    "etiquetas=res.keys().take(10)"
   ]
  },
  {
   "cell_type": "code",
   "execution_count": 59,
   "metadata": {},
   "outputs": [],
   "source": [
    "y=res.values().take(10)\n",
    "x=range(len(y)) #[0,1,...,9]"
   ]
  },
  {
   "cell_type": "code",
   "execution_count": 60,
   "metadata": {},
   "outputs": [],
   "source": [
    "import matplotlib.pyplot as grafica"
   ]
  },
  {
   "cell_type": "code",
   "execution_count": 62,
   "metadata": {},
   "outputs": [
    {
     "data": {
      "image/png": "[encoded data removed]",
      "text/plain": [
       "<Figure size 432x288 with 1 Axes>"
      ]
     },
     "metadata": {
      "needs_background": "light"
     },
     "output_type": "display_data"
    }
   ],
   "source": [
    "grafica.bar(x,y)\n",
    "grafica.xticks(x,etiquetas)\n",
    "grafica.show()"
   ]
  },
  {
   "cell_type": "code",
   "execution_count": null,
   "metadata": {},
   "outputs": [],
   "source": []
  },
  {
   "cell_type": "code",
   "execution_count": null,
   "metadata": {},
   "outputs": [],
   "source": []
  },
  {
   "cell_type": "code",
   "execution_count": null,
   "metadata": {},
   "outputs": [],
   "source": []
  },
  {
   "cell_type": "code",
   "execution_count": 12,
   "metadata": {},
   "outputs": [
    {
     "data": {
      "text/plain": [
       "datetime.datetime(1999, 2, 15, 0, 0)"
      ]
     },
     "execution_count": 12,
     "metadata": {},
     "output_type": "execute_result"
    }
   ],
   "source": [
    "from datetime import datetime\n",
    "datetime.strptime('2/15/1999',\"%m/%d/%Y\")"
   ]
  },
  {
   "cell_type": "code",
   "execution_count": null,
   "metadata": {},
   "outputs": [],
   "source": []
  }
 ],
 "metadata": {
  "kernelspec": {
   "display_name": "Python 3",
   "language": "python",
   "name": "python3"
  },
  "language_info": {
   "codemirror_mode": {
    "name": "ipython",
    "version": 3
   },
   "file_extension": ".py",
   "mimetype": "text/x-python",
   "name": "python",
   "nbconvert_exporter": "python",
   "pygments_lexer": "ipython3",
   "version": "3.5.2"
  }
 },
 "nbformat": 4,
 "nbformat_minor": 2
}
